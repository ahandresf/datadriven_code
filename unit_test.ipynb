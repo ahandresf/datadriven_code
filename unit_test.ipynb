{
 "cells": [
  {
   "cell_type": "code",
   "execution_count": 1,
   "metadata": {},
   "outputs": [],
   "source": [
    "import numpy as np\n",
    "import pandas as pd"
   ]
  },
  {
   "cell_type": "code",
   "execution_count": 2,
   "metadata": {},
   "outputs": [],
   "source": [
    "def split_data(data_df, as_dic=False):\n",
    "    full_state_trace = np.array(data_df[state_names])\n",
    "    full_action_trace = np.array(data_df[action_names])\n",
    "    actions_input=np.array(data_df[action_names].iloc[0:len(data_df)-1,:]) #skip last row\n",
    "    states_input=np.array(data_df[state_names].iloc[0:len(data_df)-1,:]) #skip last row\n",
    "    states_output=np.array(data_df[state_names].iloc[1::,:]) #skip fist row\n",
    "    states_diff = states_output-states_input\n",
    "    diff_out=pd.DataFrame(data=states_diff,columns=state_names)\n",
    "    print(\"Actions input shape:\",actions_input.shape)\n",
    "    print(\"State input shape:\",states_input.shape)\n",
    "    print(\"State output shape:\",states_output.shape)\n",
    "    print(\"State difference shape:\",states_diff.shape)\n",
    "    print(\"Diff_out df shape:\",diff_out.shape)\n",
    "    print(\"full_action_trace\",full_action_trace.shape)\n",
    "    print(\"full_state_trace:\",full_state_trace.shape)\n",
    "    data_dic={'actions_input':actions_input, \n",
    "                'states_input':states_input,\n",
    "                'states_output':states_output,\n",
    "                'states_diff':states_diff,\n",
    "                'diff_out': diff_out,\n",
    "                'full_action_trace':full_action_trace,\n",
    "                'full_state_trace':full_state_trace\n",
    "                    }\n",
    "    if as_dic:\n",
    "        print('Return dictionary keys: \\n',data_dic.keys())\n",
    "        return data_dic\n",
    "    print('Return a list with: [actions_input, states_input,states_output,states_diff, diff_out,full_action_trace,full_state_trace]')\n",
    "    return actions_input, states_input,states_output,states_diff, diff_out,full_action_trace,full_state_trace"
   ]
  },
  {
   "cell_type": "code",
   "execution_count": 3,
   "metadata": {},
   "outputs": [],
   "source": [
    "def shift_data(input_ds,output_ds,shift):\n",
    "    locator=np.arange(0, len(input_ds), shift)\n",
    "    in_ds_shift=input_ds[0:len(input_ds)-shift,:]\n",
    "    out_ds_shift=output_ds[shift::,:]\n",
    "    print(\"Shift is:%s \\n Input Shape:%s \\n Output Shape:%s\"%(shift,in_ds_shift.shape,out_ds_shift.shape))\n",
    "    return in_ds_shift,out_ds_shift"
   ]
  },
  {
   "cell_type": "code",
   "execution_count": 4,
   "metadata": {},
   "outputs": [],
   "source": [
    "def get_diff(actions,states,shift,verbose=False):\n",
    "    a_in=actions[0:len(states)-shift,:]\n",
    "    s_in=states[0:len(states)-shift,:]\n",
    "    s_out=states[shift::,:]\n",
    "    s_diff=s_out-s_in\n",
    "    a_s_in=np.concatenate((a_in,s_in),axis=1)\n",
    "    if verbose:\n",
    "        print('original_input\\n',states)\n",
    "        print('states cut\\n',s_in)\n",
    "        print('states shift\\n',s_out)\n",
    "        print('diff\\n',s_diff)\n",
    "        print('action_state_input\\n',a_s_in)\n",
    "    return s_in,s_out,s_diff,a_s_in  "
   ]
  },
  {
   "cell_type": "code",
   "execution_count": 5,
   "metadata": {},
   "outputs": [],
   "source": [
    "def get_shift_cut(actions,states,shift):\n",
    "    _,num_actions_columns=actions.shape\n",
    "    a_s_in=np.concatenate((actions,states),axis=1)\n",
    "    print('a_s_shift\\n',a_s_in)\n",
    "    r,c=a_s_in.shape #rows, columns\n",
    "    n=r//shift\n",
    "    a_s_shift=np.zeros((n,c))\n",
    "    #print(a_s_shift.shape)\n",
    "    #print(n)\n",
    "    for i in range(1,n):\n",
    "        print(i)\n",
    "        a_s_shift[i,:]=a_s_in[i*shift,:]\n",
    "    x_set=a_s_shift[0:-1,:]\n",
    "    y_set=a_s_shift[1::,num_actions_columns::]\n",
    "    return a_s_shift,x_set,y_set"
   ]
  },
  {
   "cell_type": "code",
   "execution_count": 6,
   "metadata": {},
   "outputs": [],
   "source": [
    "nrows=11\n",
    "a=np.arange(0,nrows-1)"
   ]
  },
  {
   "cell_type": "code",
   "execution_count": 7,
   "metadata": {},
   "outputs": [],
   "source": [
    "data={'a1':a,'s1':a,'s2':a}"
   ]
  },
  {
   "cell_type": "code",
   "execution_count": 8,
   "metadata": {},
   "outputs": [],
   "source": [
    "df1=pd.DataFrame.from_dict(data)\n",
    "#print(df1)"
   ]
  },
  {
   "cell_type": "code",
   "execution_count": 9,
   "metadata": {},
   "outputs": [],
   "source": [
    "df2=df1*10\n",
    "#print(df2)"
   ]
  },
  {
   "cell_type": "code",
   "execution_count": 10,
   "metadata": {},
   "outputs": [
    {
     "name": "stdout",
     "output_type": "stream",
     "text": [
      "[[0 0 0]\n",
      " [1 1 1]\n",
      " [2 2 2]\n",
      " [3 3 3]\n",
      " [4 4 4]\n",
      " [5 5 5]\n",
      " [6 6 6]\n",
      " [7 7 7]\n",
      " [8 8 8]\n",
      " [9 9 9]]\n",
      "[[ 0  0  0]\n",
      " [10 10 10]\n",
      " [20 20 20]\n",
      " [30 30 30]\n",
      " [40 40 40]\n",
      " [50 50 50]\n",
      " [60 60 60]\n",
      " [70 70 70]\n",
      " [80 80 80]\n",
      " [90 90 90]]\n"
     ]
    }
   ],
   "source": [
    "print(df1.to_numpy())\n",
    "print(df2.to_numpy())"
   ]
  },
  {
   "cell_type": "code",
   "execution_count": 11,
   "metadata": {},
   "outputs": [
    {
     "name": "stdout",
     "output_type": "stream",
     "text": [
      "Shift is:5 \n",
      " Input Shape:(5, 3) \n",
      " Output Shape:(5, 3)\n",
      "****\n",
      "[[0 0 0]\n",
      " [1 1 1]\n",
      " [2 2 2]\n",
      " [3 3 3]\n",
      " [4 4 4]]\n",
      "****\n",
      "[[50 50 50]\n",
      " [60 60 60]\n",
      " [70 70 70]\n",
      " [80 80 80]\n",
      " [90 90 90]]\n"
     ]
    }
   ],
   "source": [
    "in_ds_shift,out_ds_shift=shift_data(df1.to_numpy(),df2.to_numpy(),5)\n",
    "print(4*'*')\n",
    "print(in_ds_shift)\n",
    "print(4*'*')\n",
    "print(out_ds_shift)"
   ]
  },
  {
   "cell_type": "markdown",
   "metadata": {},
   "source": [
    "## Split Dataset"
   ]
  },
  {
   "cell_type": "code",
   "execution_count": 12,
   "metadata": {},
   "outputs": [],
   "source": [
    "action_names=['a1']"
   ]
  },
  {
   "cell_type": "code",
   "execution_count": 13,
   "metadata": {},
   "outputs": [],
   "source": [
    "state_names = ['s1','s2']"
   ]
  },
  {
   "cell_type": "code",
   "execution_count": 14,
   "metadata": {},
   "outputs": [],
   "source": [
    "##df3.iloc[ind,:]=df3.iloc[0,:]+df3.iloc[0+1,:]\n",
    "#len(df3)"
   ]
  },
  {
   "cell_type": "code",
   "execution_count": 15,
   "metadata": {},
   "outputs": [
    {
     "name": "stdout",
     "output_type": "stream",
     "text": [
      "   a1  s1  s2\n",
      "0   0   0   0\n",
      "1   1   1   1\n",
      "2   4   4   4\n",
      "3   9   9   9\n",
      "4  16  16  16\n",
      "5  25  25  25\n",
      "6  36  36  36\n",
      "7  49  49  49\n",
      "8  64  64  64\n",
      "9  81  81  81\n"
     ]
    }
   ],
   "source": [
    "df3=df1\n",
    "for ind in df3.index:\n",
    "    df3.iloc[ind,:]=df3.iloc[ind,:]*ind\n",
    "print(df3)"
   ]
  },
  {
   "cell_type": "code",
   "execution_count": 16,
   "metadata": {},
   "outputs": [
    {
     "name": "stdout",
     "output_type": "stream",
     "text": [
      "Actions input shape: (9, 1)\n",
      "State input shape: (9, 2)\n",
      "State output shape: (9, 2)\n",
      "State difference shape: (9, 2)\n",
      "Diff_out df shape: (9, 2)\n",
      "full_action_trace (10, 1)\n",
      "full_state_trace: (10, 2)\n",
      "Return dictionary keys: \n",
      " dict_keys(['actions_input', 'states_input', 'states_output', 'states_diff', 'diff_out', 'full_action_trace', 'full_state_trace'])\n"
     ]
    }
   ],
   "source": [
    "data_split_dic=split_data(df3,as_dic=True)"
   ]
  },
  {
   "cell_type": "code",
   "execution_count": 17,
   "metadata": {},
   "outputs": [
    {
     "data": {
      "text/plain": [
       "dict_keys(['actions_input', 'states_input', 'states_output', 'states_diff', 'diff_out', 'full_action_trace', 'full_state_trace'])"
      ]
     },
     "execution_count": 17,
     "metadata": {},
     "output_type": "execute_result"
    }
   ],
   "source": [
    "data_split_dic.keys()"
   ]
  },
  {
   "cell_type": "code",
   "execution_count": 18,
   "metadata": {},
   "outputs": [
    {
     "data": {
      "text/plain": [
       "array([[ 1,  1],\n",
       "       [ 4,  4],\n",
       "       [ 9,  9],\n",
       "       [16, 16],\n",
       "       [25, 25],\n",
       "       [36, 36],\n",
       "       [49, 49],\n",
       "       [64, 64],\n",
       "       [81, 81]])"
      ]
     },
     "execution_count": 18,
     "metadata": {},
     "output_type": "execute_result"
    }
   ],
   "source": [
    "#data_split_dic['diff_out']\n",
    "#data_split_dic['states_diff']\n",
    "data_split_dic['states_output']"
   ]
  },
  {
   "cell_type": "code",
   "execution_count": 19,
   "metadata": {},
   "outputs": [
    {
     "data": {
      "text/plain": [
       "{'actions_input': array([[ 0],\n",
       "        [ 1],\n",
       "        [ 4],\n",
       "        [ 9],\n",
       "        [16],\n",
       "        [25],\n",
       "        [36],\n",
       "        [49],\n",
       "        [64]]),\n",
       " 'states_input': array([[ 0,  0],\n",
       "        [ 1,  1],\n",
       "        [ 4,  4],\n",
       "        [ 9,  9],\n",
       "        [16, 16],\n",
       "        [25, 25],\n",
       "        [36, 36],\n",
       "        [49, 49],\n",
       "        [64, 64]]),\n",
       " 'states_output': array([[ 1,  1],\n",
       "        [ 4,  4],\n",
       "        [ 9,  9],\n",
       "        [16, 16],\n",
       "        [25, 25],\n",
       "        [36, 36],\n",
       "        [49, 49],\n",
       "        [64, 64],\n",
       "        [81, 81]]),\n",
       " 'states_diff': array([[ 1,  1],\n",
       "        [ 3,  3],\n",
       "        [ 5,  5],\n",
       "        [ 7,  7],\n",
       "        [ 9,  9],\n",
       "        [11, 11],\n",
       "        [13, 13],\n",
       "        [15, 15],\n",
       "        [17, 17]]),\n",
       " 'diff_out':    s1  s2\n",
       " 0   1   1\n",
       " 1   3   3\n",
       " 2   5   5\n",
       " 3   7   7\n",
       " 4   9   9\n",
       " 5  11  11\n",
       " 6  13  13\n",
       " 7  15  15\n",
       " 8  17  17,\n",
       " 'full_action_trace': array([[ 0],\n",
       "        [ 1],\n",
       "        [ 4],\n",
       "        [ 9],\n",
       "        [16],\n",
       "        [25],\n",
       "        [36],\n",
       "        [49],\n",
       "        [64],\n",
       "        [81]]),\n",
       " 'full_state_trace': array([[ 0,  0],\n",
       "        [ 1,  1],\n",
       "        [ 4,  4],\n",
       "        [ 9,  9],\n",
       "        [16, 16],\n",
       "        [25, 25],\n",
       "        [36, 36],\n",
       "        [49, 49],\n",
       "        [64, 64],\n",
       "        [81, 81]])}"
      ]
     },
     "execution_count": 19,
     "metadata": {},
     "output_type": "execute_result"
    }
   ],
   "source": [
    "data_split_dic"
   ]
  },
  {
   "cell_type": "markdown",
   "metadata": {},
   "source": [
    "# Shift Difference"
   ]
  },
  {
   "cell_type": "code",
   "execution_count": 20,
   "metadata": {},
   "outputs": [
    {
     "name": "stdout",
     "output_type": "stream",
     "text": [
      "[[  0   0]\n",
      " [ 10  10]\n",
      " [ 40  40]\n",
      " [ 90  90]\n",
      " [160 160]\n",
      " [250 250]\n",
      " [360 360]\n",
      " [490 490]\n",
      " [640 640]\n",
      " [810 810]]\n"
     ]
    }
   ],
   "source": [
    "a=df1.to_numpy()[:,0:2]*10 #Mock acions\n",
    "print(a)"
   ]
  },
  {
   "cell_type": "code",
   "execution_count": 21,
   "metadata": {},
   "outputs": [
    {
     "data": {
      "text/plain": [
       "array([[0, 0, 0],\n",
       "       [1, 1, 1],\n",
       "       [4, 4, 4]])"
      ]
     },
     "execution_count": 21,
     "metadata": {},
     "output_type": "execute_result"
    }
   ],
   "source": [
    "df1.to_numpy()[0:3,:]"
   ]
  },
  {
   "cell_type": "code",
   "execution_count": 22,
   "metadata": {},
   "outputs": [
    {
     "data": {
      "text/plain": [
       "array([[ 0,  0,  0],\n",
       "       [10, 10, 10],\n",
       "       [20, 20, 20]])"
      ]
     },
     "execution_count": 22,
     "metadata": {},
     "output_type": "execute_result"
    }
   ],
   "source": [
    "df2.to_numpy()[0:3,:]"
   ]
  },
  {
   "cell_type": "code",
   "execution_count": 23,
   "metadata": {},
   "outputs": [],
   "source": [
    "shift=2\n",
    "#get_diff(actions=a,states=df1.to_numpy(),shift=shift,verbose=True)"
   ]
  },
  {
   "cell_type": "code",
   "execution_count": 24,
   "metadata": {},
   "outputs": [
    {
     "name": "stdout",
     "output_type": "stream",
     "text": [
      "a_s_shift\n",
      " [[ 0  0  0  0  0  0]\n",
      " [ 1  1  1 10 10 10]\n",
      " [ 4  4  4 20 20 20]\n",
      " [ 9  9  9 30 30 30]\n",
      " [16 16 16 40 40 40]\n",
      " [25 25 25 50 50 50]\n",
      " [36 36 36 60 60 60]\n",
      " [49 49 49 70 70 70]\n",
      " [64 64 64 80 80 80]\n",
      " [81 81 81 90 90 90]]\n",
      "1\n",
      "2\n",
      "3\n",
      "4\n"
     ]
    }
   ],
   "source": [
    "#print(df1.to_numpy())\n",
    "total,x,y=get_shift_cut(actions=df1.to_numpy(),states=df2.to_numpy(),shift=shift)"
   ]
  },
  {
   "cell_type": "code",
   "execution_count": 25,
   "metadata": {},
   "outputs": [
    {
     "name": "stdout",
     "output_type": "stream",
     "text": [
      "[[ 0.  0.  0.  0.  0.  0.]\n",
      " [ 4.  4.  4. 20. 20. 20.]\n",
      " [16. 16. 16. 40. 40. 40.]\n",
      " [36. 36. 36. 60. 60. 60.]\n",
      " [64. 64. 64. 80. 80. 80.]]\n"
     ]
    }
   ],
   "source": [
    "print(total)"
   ]
  },
  {
   "cell_type": "code",
   "execution_count": 26,
   "metadata": {},
   "outputs": [
    {
     "name": "stdout",
     "output_type": "stream",
     "text": [
      "[[ 0.  0.  0.  0.  0.  0.]\n",
      " [ 4.  4.  4. 20. 20. 20.]\n",
      " [16. 16. 16. 40. 40. 40.]\n",
      " [36. 36. 36. 60. 60. 60.]]\n"
     ]
    }
   ],
   "source": [
    "print(x)"
   ]
  },
  {
   "cell_type": "code",
   "execution_count": 27,
   "metadata": {},
   "outputs": [
    {
     "name": "stdout",
     "output_type": "stream",
     "text": [
      "[[20. 20. 20.]\n",
      " [40. 40. 40.]\n",
      " [60. 60. 60.]\n",
      " [80. 80. 80.]]\n"
     ]
    }
   ],
   "source": [
    "print(y)"
   ]
  },
  {
   "cell_type": "code",
   "execution_count": null,
   "metadata": {},
   "outputs": [],
   "source": []
  }
 ],
 "metadata": {
  "kernelspec": {
   "display_name": "Python 3",
   "language": "python",
   "name": "python3"
  },
  "language_info": {
   "codemirror_mode": {
    "name": "ipython",
    "version": 3
   },
   "file_extension": ".py",
   "mimetype": "text/x-python",
   "name": "python",
   "nbconvert_exporter": "python",
   "pygments_lexer": "ipython3",
   "version": "3.7.6"
  }
 },
 "nbformat": 4,
 "nbformat_minor": 4
}
