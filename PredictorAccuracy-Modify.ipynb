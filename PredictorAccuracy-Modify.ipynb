{
 "cells": [
  {
   "cell_type": "markdown",
   "metadata": {},
   "source": [
    "Author: Andres Felipe Alba Hernandez\n",
    "Applied AI Engineer <br>\n",
    "March 2020 <br>\n",
    "email: v-analba@microsoft.com <br>\n",
    "https://www.linkedin.com/in/ahandresf/"
   ]
  },
  {
   "cell_type": "markdown",
   "metadata": {},
   "source": [
    "# Evaluate prediction using the trained model\n",
    "\n",
    "Remember that any model used here should have been already trained. This models can be created as objects of the class ModelPredictor."
   ]
  },
  {
   "cell_type": "code",
   "execution_count": 1,
   "metadata": {},
   "outputs": [
    {
     "name": "stderr",
     "output_type": "stream",
     "text": [
      "Using TensorFlow backend.\n"
     ]
    }
   ],
   "source": [
    "#Importing the class for the different data-driven models\n",
    "#Note: You should train the model before using them here. \n",
    "from predictor import ModelPredictor"
   ]
  },
  {
   "cell_type": "markdown",
   "metadata": {},
   "source": [
    "## Importing libraries"
   ]
  },
  {
   "cell_type": "code",
   "execution_count": 2,
   "metadata": {},
   "outputs": [],
   "source": [
    "#importing parameters used during training\n",
    "from conf_params_datadriven import STATE_SPACE_DIM, ACTION_SPACE_DIM, MARKOVIAN_ORDER, POLYNOMIAL_DEGREE, DROPOUT_RATE"
   ]
  },
  {
   "cell_type": "code",
   "execution_count": 3,
   "metadata": {},
   "outputs": [],
   "source": [
    "import numpy as np\n",
    "import matplotlib.pyplot as plt\n",
    "import pandas as pd\n",
    "plt.rcParams['figure.dpi'] = 300"
   ]
  },
  {
   "cell_type": "markdown",
   "metadata": {},
   "source": [
    "## Functions"
   ]
  },
  {
   "cell_type": "markdown",
   "metadata": {},
   "source": [
    "### Data Related"
   ]
  },
  {
   "cell_type": "code",
   "execution_count": 4,
   "metadata": {},
   "outputs": [],
   "source": [
    "'''\n",
    "This function split the data returning, actions, state as input and state shifted by certain \n",
    "time step as output, it also take the difference between output-input states and set that as state_diff.\n",
    "The shift may be useful for highly correlated data in convination with the state_diff\n",
    "'''\n",
    "def split_data(data_df, output_shift=1):\n",
    "    full_state_trace = np.array(data_df[state_names])\n",
    "    full_action_trace = np.array(data_df[action_names])\n",
    "    actions_input=np.array(data_df[action_names].iloc[0:len(data_df)-output_shift,:]) #skip last row\n",
    "    states_input=np.array(data_df[state_names].iloc[0:len(data_df)-output_shift,:]) #skip last row\n",
    "    states_output=np.array(data_df[state_names].iloc[output_shift::,:]) #skip fist row\n",
    "    states_diff = states_output-states_input\n",
    "    diff_out=pd.DataFrame(data=states_diff,columns=state_names)\n",
    "    print(\"Actions input shape:\",actions_input.shape)\n",
    "    print(\"State input shape:\",states_input.shape)\n",
    "    print(\"State output shape:\",states_output.shape)\n",
    "    print(\"State difference shape:\",states_diff.shape)\n",
    "    print(\"Diff_out Data Frame shape:\",diff_out.shape)\n",
    "    print(\"full_action_trace\",full_action_trace.shape)\n",
    "    print(\"full_state_trace:\",full_state_trace.shape)\n",
    "    return actions_input, states_input,states_output,states_diff, diff_out,full_action_trace,full_state_trace"
   ]
  },
  {
   "cell_type": "markdown",
   "metadata": {},
   "source": [
    "### Accuracy Functions"
   ]
  },
  {
   "cell_type": "code",
   "execution_count": 5,
   "metadata": {},
   "outputs": [],
   "source": [
    "def get_stats(accuracy, show_stats=True):\n",
    "    maximum = accuracy.max()\n",
    "    minimum = accuracy.min()\n",
    "    mean = accuracy.mean()\n",
    "    std = accuracy.std()\n",
    "    if show_stats:\n",
    "        print(\"/nGeneral Stadistics\\n\")\n",
    "        print(('max accuracy:%s\\nmin accuracy:%s\\naverage accuracy:%s\\nstandard desviation:%s\\n')%(maximum,minimum,mean,std))\n",
    "    return (maximum,minimum,mean,std)"
   ]
  },
  {
   "cell_type": "code",
   "execution_count": 6,
   "metadata": {},
   "outputs": [],
   "source": [
    "def plot_accuracy_bars(features_names,accuracy,store_plot=False):\n",
    "    minimum=accuracy.min()\n",
    "    plt.xlabel('Accuracy')\n",
    "    plt.ylabel('Features')\n",
    "    plt.xlim(minimum-0.1, 1)\n",
    "    plt.tick_params(labelsize=6)\n",
    "    plt.barh(features_names,accuracy)\n",
    "    plt.show()"
   ]
  },
  {
   "cell_type": "code",
   "execution_count": 7,
   "metadata": {},
   "outputs": [],
   "source": [
    "def show_accuracy(accuracy_filename):\n",
    "    res=np.load(accuracy_filename)\n",
    "    maximum,minimum,mean,std = get_stats(res)\n",
    "    plot_accuracy_bars(features_names=state_names,accuracy=res)"
   ]
  },
  {
   "cell_type": "markdown",
   "metadata": {},
   "source": [
    "### Plot Traces"
   ]
  },
  {
   "cell_type": "code",
   "execution_count": 8,
   "metadata": {},
   "outputs": [],
   "source": [
    "def plot_results(estimate_trace,real_trace,title=\"Non title provided\"):\n",
    "    plt.plot(estimate_trace,label='Predictive trace')\n",
    "    plt.plot(real_trace,label='Real trace',linewidth=0.3)\n",
    "    #plt.plot(real_trace,'*',label='Real trace')\n",
    "    plt.title(title)\n",
    "    plt.legend()\n",
    "    plt.show()"
   ]
  },
  {
   "cell_type": "code",
   "execution_count": 9,
   "metadata": {},
   "outputs": [],
   "source": [
    "def plot_several_traces(estimate_trace,real_trace):\n",
    "    for column in range(30):\n",
    "        state=state_names[column]\n",
    "        plot_title=('Estimation vs Real for state: %s'%state)\n",
    "        plot_results(estimate_trace=diff_state_estimation[:,column],real_trace=diff_out[:,column],title=plot_title)"
   ]
  },
  {
   "cell_type": "code",
   "execution_count": 10,
   "metadata": {},
   "outputs": [],
   "source": [
    "def plot_all_traces(predictor_trace, real_trace, title):\n",
    "    for column in range(30):\n",
    "        subtitle=title+' column:'+str(column)\n",
    "        plot_results(estimate_trace=predictor_trace[:,column],real_trace=real_trace[:,column],title=subtitle)"
   ]
  },
  {
   "cell_type": "markdown",
   "metadata": {},
   "source": [
    "### Loading states and action names\n",
    "\n",
    "This are numpy arrays (more like list) that contain the names of each possible action and state, this will be use to iterate over columns in a dataframe that contain all the data"
   ]
  },
  {
   "cell_type": "code",
   "execution_count": 11,
   "metadata": {},
   "outputs": [],
   "source": [
    "#Asuming the states_names and action names where store in env_data directory\n",
    "state_names = np.load('./env_data/state_names.npy', allow_pickle=True)\n",
    "action_names = np.load('./env_data/action_names.npy', allow_pickle=True)"
   ]
  },
  {
   "cell_type": "markdown",
   "metadata": {},
   "source": [
    "# Loading data \n",
    "\n",
    "The historical data can be store in csv file, for this we use the data_parser notebook, located at: https://github.com/ahandresf/pttgc/blob/master/data_parser.ipynb We load the csv file into a pandas dataframe.\n",
    "\n",
    "If you want to use a different dataset you just need to change the data_dir variable below"
   ]
  },
  {
   "cell_type": "code",
   "execution_count": 12,
   "metadata": {},
   "outputs": [],
   "source": [
    "#loading Data in a Data Frame\n",
    "\n",
    "#data_dir=r'C:\\Users\\aalbaher\\pttgc\\data_1584556874.csv'\n",
    "data_dir=r'C:\\Users\\aalbaher\\pttgc\\data_1585254368.csv'\n",
    "\n",
    "data_df=pd.read_csv(data_dir)"
   ]
  },
  {
   "cell_type": "code",
   "execution_count": 13,
   "metadata": {},
   "outputs": [
    {
     "name": "stdout",
     "output_type": "stream",
     "text": [
      "(494625, 41)\n"
     ]
    }
   ],
   "source": [
    "print(data_df.shape)"
   ]
  },
  {
   "cell_type": "code",
   "execution_count": 14,
   "metadata": {},
   "outputs": [
    {
     "data": {
      "text/html": [
       "<div>\n",
       "<style scoped>\n",
       "    .dataframe tbody tr th:only-of-type {\n",
       "        vertical-align: middle;\n",
       "    }\n",
       "\n",
       "    .dataframe tbody tr th {\n",
       "        vertical-align: top;\n",
       "    }\n",
       "\n",
       "    .dataframe thead th {\n",
       "        text-align: right;\n",
       "    }\n",
       "</style>\n",
       "<table border=\"1\" class=\"dataframe\">\n",
       "  <thead>\n",
       "    <tr style=\"text-align: right;\">\n",
       "      <th></th>\n",
       "      <th>Unnamed: 0</th>\n",
       "      <th>time</th>\n",
       "      <th>timestamp</th>\n",
       "      <th>14FICA508.MEAS</th>\n",
       "      <th>14FICA508.SPT</th>\n",
       "      <th>14TRC515.MEAS</th>\n",
       "      <th>14TRC515.SPT</th>\n",
       "      <th>14FRCA513.MEAS</th>\n",
       "      <th>14FRCA513.SPT</th>\n",
       "      <th>14FRCA511.MEAS</th>\n",
       "      <th>...</th>\n",
       "      <th>14FRC514.MEAS</th>\n",
       "      <th>14FRC501.MEAS</th>\n",
       "      <th>14QI508.PNT</th>\n",
       "      <th>14TY513.RO01</th>\n",
       "      <th>14FIC503.MEAS</th>\n",
       "      <th>14TI502.PNT</th>\n",
       "      <th>16Q001.PNT</th>\n",
       "      <th>14QRA502.PNT</th>\n",
       "      <th>14Y559.RO01</th>\n",
       "      <th>14LRCA503.MEAS</th>\n",
       "    </tr>\n",
       "  </thead>\n",
       "  <tbody>\n",
       "    <tr>\n",
       "      <td>0</td>\n",
       "      <td>0</td>\n",
       "      <td>1/1/2019 0:00</td>\n",
       "      <td>1.546322e+09</td>\n",
       "      <td>1998.030518</td>\n",
       "      <td>2000.000366</td>\n",
       "      <td>160.325028</td>\n",
       "      <td>160.417206</td>\n",
       "      <td>2063.264160</td>\n",
       "      <td>2066.077881</td>\n",
       "      <td>9.007957</td>\n",
       "      <td>...</td>\n",
       "      <td>2034.267700</td>\n",
       "      <td>4134.604004</td>\n",
       "      <td>108.248032</td>\n",
       "      <td>75.670616</td>\n",
       "      <td>6135.165039</td>\n",
       "      <td>147.503754</td>\n",
       "      <td>0.265072</td>\n",
       "      <td>82.733894</td>\n",
       "      <td>3.412334</td>\n",
       "      <td>39.110107</td>\n",
       "    </tr>\n",
       "    <tr>\n",
       "      <td>1</td>\n",
       "      <td>1</td>\n",
       "      <td>1/1/2019 0:01</td>\n",
       "      <td>1.546322e+09</td>\n",
       "      <td>2001.770142</td>\n",
       "      <td>2000.000977</td>\n",
       "      <td>160.357956</td>\n",
       "      <td>160.417252</td>\n",
       "      <td>2061.503906</td>\n",
       "      <td>2068.052734</td>\n",
       "      <td>9.011292</td>\n",
       "      <td>...</td>\n",
       "      <td>2038.415283</td>\n",
       "      <td>4132.783691</td>\n",
       "      <td>108.240974</td>\n",
       "      <td>75.830544</td>\n",
       "      <td>6137.497070</td>\n",
       "      <td>147.380493</td>\n",
       "      <td>0.269266</td>\n",
       "      <td>82.731491</td>\n",
       "      <td>3.407272</td>\n",
       "      <td>39.271370</td>\n",
       "    </tr>\n",
       "  </tbody>\n",
       "</table>\n",
       "<p>2 rows × 41 columns</p>\n",
       "</div>"
      ],
      "text/plain": [
       "   Unnamed: 0           time     timestamp  14FICA508.MEAS  14FICA508.SPT  \\\n",
       "0           0  1/1/2019 0:00  1.546322e+09     1998.030518    2000.000366   \n",
       "1           1  1/1/2019 0:01  1.546322e+09     2001.770142    2000.000977   \n",
       "\n",
       "   14TRC515.MEAS  14TRC515.SPT  14FRCA513.MEAS  14FRCA513.SPT  14FRCA511.MEAS  \\\n",
       "0     160.325028    160.417206     2063.264160    2066.077881        9.007957   \n",
       "1     160.357956    160.417252     2061.503906    2068.052734        9.011292   \n",
       "\n",
       "   ...  14FRC514.MEAS  14FRC501.MEAS  14QI508.PNT  14TY513.RO01  \\\n",
       "0  ...    2034.267700    4134.604004   108.248032     75.670616   \n",
       "1  ...    2038.415283    4132.783691   108.240974     75.830544   \n",
       "\n",
       "   14FIC503.MEAS  14TI502.PNT  16Q001.PNT  14QRA502.PNT  14Y559.RO01  \\\n",
       "0    6135.165039   147.503754    0.265072     82.733894     3.412334   \n",
       "1    6137.497070   147.380493    0.269266     82.731491     3.407272   \n",
       "\n",
       "   14LRCA503.MEAS  \n",
       "0       39.110107  \n",
       "1       39.271370  \n",
       "\n",
       "[2 rows x 41 columns]"
      ]
     },
     "execution_count": 14,
     "metadata": {},
     "output_type": "execute_result"
    }
   ],
   "source": [
    "# Show first some rows as a sample\n",
    "data_df.iloc[0:2,:]"
   ]
  },
  {
   "cell_type": "markdown",
   "metadata": {},
   "source": [
    "# Creating subset actions, states, and others"
   ]
  },
  {
   "cell_type": "markdown",
   "metadata": {},
   "source": [
    "Input action vector contain actions from $a_{0}, a_{1}, ...a_{n-1}$"
   ]
  },
  {
   "cell_type": "markdown",
   "metadata": {},
   "source": [
    "Input state vector contain actions from $s_{0}, s_{1}, ...s_{n-1}$"
   ]
  },
  {
   "cell_type": "markdown",
   "metadata": {},
   "source": [
    "Output state vector contain actions from $s_{1}, s_{2}, ...s_{n}$"
   ]
  },
  {
   "cell_type": "markdown",
   "metadata": {},
   "source": [
    "Output state difference, this dataset contain the change between  $s_{n+N}$ and $s_{n}$. In other words the change due to the action. $N$ correspond to the number of time steps between the input state and the output state, we may call $N$ as the shift."
   ]
  },
  {
   "cell_type": "markdown",
   "metadata": {},
   "source": [
    "## Split Data Set"
   ]
  },
  {
   "cell_type": "code",
   "execution_count": 15,
   "metadata": {},
   "outputs": [
    {
     "name": "stdout",
     "output_type": "stream",
     "text": [
      "Actions input shape: (494624, 8)\n",
      "State input shape: (494624, 30)\n",
      "State output shape: (494624, 30)\n",
      "State difference shape: (494624, 30)\n",
      "Diff_out Data Frame shape: (494624, 30)\n",
      "full_action_trace (494625, 8)\n",
      "full_state_trace: (494625, 30)\n"
     ]
    }
   ],
   "source": [
    "actions_input, states_input,states_output,states_diff, diff_out,full_action_trace,full_state_trace = split_data(data_df=data_df)"
   ]
  },
  {
   "cell_type": "markdown",
   "metadata": {},
   "source": [
    "**Get a single and action state just for testing**"
   ]
  },
  {
   "cell_type": "code",
   "execution_count": 16,
   "metadata": {},
   "outputs": [
    {
     "name": "stdout",
     "output_type": "stream",
     "text": [
      "30\n",
      "8\n"
     ]
    }
   ],
   "source": [
    "s=np.array(data_df[state_names].iloc[0,:])\n",
    "a=np.array(data_df[action_names].iloc[0,:])\n",
    "print(len(s))\n",
    "print(len(a))"
   ]
  },
  {
   "cell_type": "code",
   "execution_count": 17,
   "metadata": {},
   "outputs": [
    {
     "name": "stdout",
     "output_type": "stream",
     "text": [
      "correct actions\n",
      "correct states\n"
     ]
    }
   ],
   "source": [
    "if np.array_equal(actions_input[0,:],a):\n",
    "    print(\"correct actions\")\n",
    "if np.array_equal(states_input[0,:],s):\n",
    "    print(\"correct states\")"
   ]
  },
  {
   "cell_type": "markdown",
   "metadata": {},
   "source": [
    "# Trace using predictor\n",
    "\n",
    "Other way to evaluate the accuracy of the model is to generate a trace following the actions store from the original data. Continue using the actions from the historical data (follow the same action trace) to create a trace of states<br> \n",
    "\n",
    "- For a model predictor $P(s,a)$ <br>\n",
    "- If the dataset is created with a shift $M$ then we will have an scenario where $s_{n+1}$ is $M$ time step ahead from $s_{n}$ where $M$ is the shift selected while calling the definition ```data_split()```.\n",
    "- Some strategies to create the traces are proposed below. "
   ]
  },
  {
   "cell_type": "markdown",
   "metadata": {},
   "source": [
    "### Create a trace predicting single steps\n",
    "\n",
    "In this case we predict the output using real data as input. So we use $s_{n},a_{n}$ to estimate the future state $\\hat{s}_{n+1}$ OR the estimate difference between states $\\hat{d}_{n}=({s}_{n+1}-{s}_{n})$<br> \n",
    "\n",
    "- Remember on the selected predictor you estimate the next estate or the difference between states.\n",
    "- Generate a trace using $\\hat{s}_{n+1} = P({s}_{n},a_{n})$ or you use $\\hat{d}_{n} = P({s}_{n},a_{n})$. In both cases using the actions $a_{0}, ...,a_{T-1}$ from the historical data that contain $T$ samples<br>\n",
    "- Then compare the difference between the states in the data and the ones generated by the datadriven model trace. \n",
    "\n",
    "**Note:**\n",
    "- If the dataset is created with a shift $M$ then we will have an scenario where $s_{n+1}$ is $M$ time step ahead from $s_{n}$ where $M$ is the shift selected while calling the definition ```data_split()```."
   ]
  },
  {
   "cell_type": "code",
   "execution_count": 18,
   "metadata": {},
   "outputs": [],
   "source": [
    "def get_predict_step_trace(predictor,states_input,actions_trace):\n",
    "    #predictor=nn_predictor\n",
    "    input_s = state_input[0,:]\n",
    "    diff_state_estimation=[]\n",
    "    for observation in range(0,len(actions_trace)):\n",
    "        input_s = state_input[observation,:] #get input from dataset\n",
    "        diff_state = predictor.predict(input_s,actions_trace[observation,:]) #estimate diff or state\n",
    "        diff_state_estimation.append(diff_state) #add result to the trace\n",
    "    diff_state_estimation=np.array(diff_state_estimation) #convert list into numpy array\n",
    "    print('diff_state_estimation shape: %s',diff_state_estimation.shape)\n",
    "    return(diff_state_estimation)"
   ]
  },
  {
   "cell_type": "markdown",
   "metadata": {},
   "source": [
    "## Trace predicting next state\n",
    "\n",
    "Other way to evaluate the accuracy of the model is to generate a trace following the actions store from the original data, start in an initial state $s_{0}$, and feed the model predictor with the output of this state. Continue using the actions from the historical data (follow the same action trace) to create a trace of states<br> \n",
    "\n",
    "- With $\\hat{s}$ as the estimation of s\n",
    "- Estimate of $s_{1}$ as $\\hat{s}_{1}=P({s}_{0},a_{0})$\n",
    "- Generate a trace using $\\hat{s}_{n+1}=P(\\hat{s}_{n},a_{n})$ using the actions $a_{0}, ...,a_{T-1}$ from the historical data that contain $T$ samples<br>\n",
    "- Then compare the difference between the states in the data and the ones generated by the datadriven model trace. \n",
    "\n",
    "**Note:**\n",
    "- If the dataset is created with a shift $M$ then we will have an scenario where $s_{n+1}$ is $M$ time step ahead from $s_{n}$ where $M$ is the shift selected while calling the definition ```data_split()```."
   ]
  },
  {
   "cell_type": "code",
   "execution_count": 19,
   "metadata": {},
   "outputs": [],
   "source": [
    "'''\n",
    "This function generate the trace using:\n",
    "predictor: object used for predict next staet\n",
    "initial_state: the starting point in the state space.\n",
    "action_trace: a set of actions from historical data, this is like the policy.\n",
    "'''\n",
    "def get_datadriven_trace(predictor,initial_state,actions_trace):\n",
    "    input_state = initial_state\n",
    "    state_estimation=[initial_state]\n",
    "    #print(\"Test prediction\",predictor.predict(s,a))\n",
    "    #print(\"Actions\",actions_trace)\n",
    "    #This is not the fastest way but let test\n",
    "    for row in range(0,len(actions_trace)):\n",
    "        try:\n",
    "            input_state=predictor.predict(input_state,actions_trace.iloc[row,:])\n",
    "            state_estimation.append(input_state)\n",
    "        except:\n",
    "            print(\"ERROR at iteration:%s\\nState:\\n\" % (row))\n",
    "            print(input_state)\n",
    "            break\n",
    "    state_trace=np.array(state_estimation)\n",
    "    print(\"State Trace Shape: \", state_trace.shape)\n",
    "    return(state_trace,input_state)"
   ]
  },
  {
   "cell_type": "markdown",
   "metadata": {},
   "source": [
    "### Trace predicting difference\n",
    "\n",
    "The predictor predict the difference between current and future state, the input is usually an estimation of the previous step.\n",
    "\n",
    "Other way to evaluate the accuracy of the model is to generate a trace following the actions store from the original data, start in an initial state $s_{0}$, and feed the model predictor with the output of this state. Continue using the actions from the historical data (follow the same action trace) to create a trace of states<br> \n",
    "\n",
    "\n",
    "- With $\\hat{d}$ as the estimation of $d=(s_{n+1}-s_{n})$.\n",
    "- Estimate of $d_{0}=(s_{1}-s_{0})$, we should use $\\hat{d}_{0}=P({s}_{0},a_{0})$\n",
    "- Generate a trace using $\\hat{d}_{n}=P(\\hat{s}_{n},a_{n})$ using the actions $a_{0}, ...,a_{T-1}$ from the historical data that contain $T$ samples<br>\n",
    "- The next state $\\hat{s}_{n+1}=(\\hat{s}_{n}+\\hat{d}_{n})$\n",
    "- Then compare the difference between the states in the data and the ones generated by the datadriven model trace. \n",
    "\n",
    "**Note:**\n",
    "- If the dataset is created with a shift $M$ then we will have an scenario where $s_{n+1}$ is $M$ time step ahead from $s_{n}$ where $M$ is the shift selected while calling the definition ```data_split()```."
   ]
  },
  {
   "cell_type": "code",
   "execution_count": 20,
   "metadata": {},
   "outputs": [],
   "source": [
    "'''\n",
    "This function generate the trace using:\n",
    "predictor: object used for predict next staet\n",
    "initial_state: the starting point in the state space.\n",
    "action_trace: a set of actions from historical data, this is like the policy.\n",
    "'''\n",
    "def get_datadriven_trace_diff(predictor,initial_state,actions_trace):\n",
    "    input_state = initial_state\n",
    "    state_estimation=[initial_state]\n",
    "    #print(\"Test prediction\",predictor.predict(s,a))\n",
    "    #print(\"Actions\",actions_trace)\n",
    "    #This is not the fastest way but let test\n",
    "    for row in range(0,len(actions_trace)):\n",
    "        try:\n",
    "            diff_state=predictor.predict(input_state,actions_trace.iloc[row,:])\n",
    "            input_state=input_state+diff_state\n",
    "            state_estimation.append(input_state)\n",
    "        except:\n",
    "            print(\"ERROR at iteration:%s\\nState:\\n\" % (row))\n",
    "            print(input_state)\n",
    "            break\n",
    "    state_trace=np.array(state_estimation)\n",
    "    print(\"State Trace Shape: \", state_estimation.shape)\n",
    "    return(state_trace,input_state)"
   ]
  },
  {
   "cell_type": "markdown",
   "metadata": {},
   "source": [
    "# Create Model Predictors\n",
    "\n",
    "We just create the objects per each kind of predictor that we would like to use. <br>\n",
    "Remember that a predictor function $P(s,a)$ is use in one of the two ways below: <br>\n",
    "- $\\hat{s}_{n+1}=P(s_{n},a_{n})$\n",
    "- $\\hat{d}_{n}=P(s_{n},a_{n})$ where $d=s_{n+1}-s_{n}$"
   ]
  },
  {
   "cell_type": "markdown",
   "metadata": {},
   "source": [
    "Create each predictor object with the desire modeltype and parameters, most of the parameters can be imported from config_params_datadriven or they can be manually modify while calling the constructor."
   ]
  },
  {
   "cell_type": "code",
   "execution_count": 21,
   "metadata": {},
   "outputs": [],
   "source": [
    "'''\n",
    "Create the objects for each kind of predictor\n",
    "Remember that the model have to be already trained. To learn more how to train please visit:\n",
    "https://github.com/BonsaiAI/datadrivenmodel\n",
    "'''\n",
    "\n",
    "#MODELS IN USE\n",
    "GB=False\n",
    "POLY=False\n",
    "NN = True\n",
    "LSTM = False\n",
    "\n",
    "\n",
    "'''\n",
    "The model stamp indicate where the model is located. Format below.\n",
    "./models/'+model_stamp.\n",
    "If you want to check in the default location use None instead.\n",
    "'''\n",
    "#Model location indicator (stamp)\n",
    "model_stamp_gb = None\n",
    "model_stamp_poly = None\n",
    "model_stamp_nn = 'nn_vm_machine_10shift'\n",
    "model_stamp_lstm = None\n"
   ]
  },
  {
   "cell_type": "code",
   "execution_count": 22,
   "metadata": {},
   "outputs": [
    {
     "name": "stdout",
     "output_type": "stream",
     "text": [
      "neuronal networks\n",
      "nn  is used as the data driven model to train brain.\n",
      "WARNING:tensorflow:From C:\\Users\\aalbaher\\AppData\\Local\\Continuum\\anaconda3\\envs\\datadriven\\lib\\site-packages\\keras\\backend\\tensorflow_backend.py:517: The name tf.placeholder is deprecated. Please use tf.compat.v1.placeholder instead.\n",
      "\n",
      "WARNING:tensorflow:From C:\\Users\\aalbaher\\AppData\\Local\\Continuum\\anaconda3\\envs\\datadriven\\lib\\site-packages\\keras\\backend\\tensorflow_backend.py:4138: The name tf.random_uniform is deprecated. Please use tf.random.uniform instead.\n",
      "\n",
      "WARNING:tensorflow:From C:\\Users\\aalbaher\\AppData\\Local\\Continuum\\anaconda3\\envs\\datadriven\\lib\\site-packages\\keras\\backend\\tensorflow_backend.py:4115: The name tf.random_normal is deprecated. Please use tf.random.normal instead.\n",
      "\n",
      "WARNING:tensorflow:From C:\\Users\\aalbaher\\AppData\\Local\\Continuum\\anaconda3\\envs\\datadriven\\lib\\site-packages\\keras\\backend\\tensorflow_backend.py:174: The name tf.get_default_session is deprecated. Please use tf.compat.v1.get_default_session instead.\n",
      "\n",
      "WARNING:tensorflow:From C:\\Users\\aalbaher\\AppData\\Local\\Continuum\\anaconda3\\envs\\datadriven\\lib\\site-packages\\keras\\backend\\tensorflow_backend.py:181: The name tf.ConfigProto is deprecated. Please use tf.compat.v1.ConfigProto instead.\n",
      "\n",
      "WARNING:tensorflow:From C:\\Users\\aalbaher\\AppData\\Local\\Continuum\\anaconda3\\envs\\datadriven\\lib\\site-packages\\keras\\optimizers.py:790: The name tf.train.Optimizer is deprecated. Please use tf.compat.v1.train.Optimizer instead.\n",
      "\n",
      "<keras.engine.sequential.Sequential object at 0x00000021D6D25788>\n"
     ]
    }
   ],
   "source": [
    "if GB:\n",
    "    #Gradient Boost Predictor\n",
    "    print(\"gradient boost\")\n",
    "    gb_predictor=ModelPredictor(modeltype='gb', noise_percentage=0, action_space_dim=ACTION_SPACE_DIM,\n",
    "                                  state_space_dim=STATE_SPACE_DIM,model_stamp=model_stamp_gb)\n",
    "elif POLY:\n",
    "    #Polynomial Predictor\n",
    "    print(\"polynomial\")\n",
    "    poly_predictor=ModelPredictor(modeltype='poly', noise_percentage=0, action_space_dim=ACTION_SPACE_DIM,\n",
    "                                  state_space_dim=STATE_SPACE_DIM,model_stamp=model_stamp_poly)\n",
    "elif NN:\n",
    "    # Neuronal Networks\n",
    "    print(\"neuronal networks\")\n",
    "    nn_predictor=ModelPredictor(modeltype='nn', noise_percentage=0, action_space_dim=ACTION_SPACE_DIM,\n",
    "                              state_space_dim=STATE_SPACE_DIM,model_stamp=model_stamp_nn)\n",
    "elif LSTM:\n",
    "    # Long Short Term Predictor\n",
    "    print(\"lstm\")\n",
    "    lstm_predictor=ModelPredictor(modeltype='lstm', noise_percentage=0, action_space_dim=ACTION_SPACE_DIM,\n",
    "                                  state_space_dim=STATE_SPACE_DIM, markovian_order=MARKOVIAN_ORDER,model_stamp=model_stamp_lstm)\n",
    "else:\n",
    "    print('you did NOT select any model')"
   ]
  },
  {
   "cell_type": "markdown",
   "metadata": {},
   "source": [
    "### Test models\n",
    "**You may want to test the objects with a single (s,a) input to be sure it works.** <br>\n",
    "Comment the cell for the unused or untrained models.\n"
   ]
  },
  {
   "cell_type": "code",
   "execution_count": 23,
   "metadata": {},
   "outputs": [
    {
     "data": {
      "text/plain": [
       "array([ 4.03360596e+02,  6.42808990e+01, -1.69485472e-02,  1.39407918e-01,\n",
       "       -1.09589272e+01, -3.70460600e-01, -2.07532811e+00, -7.67283559e-01,\n",
       "        1.33847430e-01,  8.64505081e+01, -1.12779222e-01, -1.05632830e+00,\n",
       "       -1.35421693e-01, -1.13103256e-01,  4.10156298e+00,  4.22861993e-01,\n",
       "        4.70197964e+00,  2.11772423e+01, -6.57620728e-01,  7.48200297e-01,\n",
       "        3.38788361e+02,  6.66961243e+02, -1.55041361e+00, -3.46637034e+00,\n",
       "        5.45754639e+02, -4.34981728e+00, -1.53085440e-01,  5.59170127e-01,\n",
       "        6.34840608e-01, -7.80255985e+00], dtype=float32)"
      ]
     },
     "execution_count": 23,
     "metadata": {},
     "output_type": "execute_result"
    }
   ],
   "source": [
    "nn_predictor.predict(s,a)"
   ]
  },
  {
   "cell_type": "code",
   "execution_count": 24,
   "metadata": {},
   "outputs": [],
   "source": [
    "#gb_predictor.predict(s,a)"
   ]
  },
  {
   "cell_type": "code",
   "execution_count": 25,
   "metadata": {},
   "outputs": [],
   "source": [
    "#lstm_predictor.predict(s,a)"
   ]
  },
  {
   "cell_type": "code",
   "execution_count": 26,
   "metadata": {},
   "outputs": [],
   "source": [
    "#poly_predictor(s,a)"
   ]
  },
  {
   "cell_type": "markdown",
   "metadata": {},
   "source": [
    "# Get traces"
   ]
  },
  {
   "cell_type": "code",
   "execution_count": 29,
   "metadata": {},
   "outputs": [],
   "source": [
    "#Inputs\n",
    "initial_state=states_input[0,:] #pull the state S0 from the dataset\n",
    "actions_trace=actions_input #pulling the actions a0,...aT from the dataset."
   ]
  },
  {
   "cell_type": "code",
   "execution_count": null,
   "metadata": {},
   "outputs": [],
   "source": [
    "#Output to compare with\n",
    "state_trace = full_state_trace"
   ]
  },
  {
   "cell_type": "code",
   "execution_count": null,
   "metadata": {},
   "outputs": [],
   "source": [
    "diff_each_step_estimation_nn_trace=get_predict_step_trace(predictor=nn_predictor,states_input=states_input,actions_trace=actions_trace)"
   ]
  },
  {
   "cell_type": "code",
   "execution_count": null,
   "metadata": {},
   "outputs": [],
   "source": [
    "diff_each_step_estimation_gb_trace=get_predict_step_trace(predictor=gb_predictor,states_input=states_input,actions_trace=actions_trace)"
   ]
  },
  {
   "cell_type": "code",
   "execution_count": null,
   "metadata": {},
   "outputs": [],
   "source": [
    "##diff_each_step_estimation_nn_trace=diff_each_step_estimation_trace #neuronal network #DELETE"
   ]
  },
  {
   "cell_type": "code",
   "execution_count": null,
   "metadata": {},
   "outputs": [],
   "source": [
    "#variable you want to check\n",
    "variable_name='14QI508.PNT'"
   ]
  },
  {
   "cell_type": "code",
   "execution_count": null,
   "metadata": {},
   "outputs": [],
   "source": [
    "#variable you want to check\n",
    "##print(state_names)\n",
    "var_i=np.where(state_names==variable_name)[0][0]\n",
    "print(var_i)"
   ]
  },
  {
   "cell_type": "markdown",
   "metadata": {},
   "source": [
    "# NN for one step estimation"
   ]
  },
  {
   "cell_type": "code",
   "execution_count": null,
   "metadata": {},
   "outputs": [],
   "source": [
    "#the actual difference between states\n",
    "print(state_diff.shape)"
   ]
  },
  {
   "cell_type": "code",
   "execution_count": null,
   "metadata": {},
   "outputs": [],
   "source": [
    "#predicted difference between states using as input the actual real state\n",
    "print(diff_each_step_estimation_nn_trace.shape) "
   ]
  },
  {
   "cell_type": "code",
   "execution_count": null,
   "metadata": {},
   "outputs": [],
   "source": [
    "column=6\n",
    "ini_obs=100000\n",
    "num_obs=80\n",
    "#num_obs=494624\n",
    "state=state_names[column]\n",
    "plot_title=('Estimation vs Real for state: %s'%state)\n",
    "plot_results(estimate_trace=diff_each_step_estimation_nn_trace[ini_obs:ini_obs+num_obs,column],real_trace=state_diff[ini_obs:ini_obs+num_obs,column],title=plot_title)"
   ]
  },
  {
   "cell_type": "code",
   "execution_count": null,
   "metadata": {},
   "outputs": [],
   "source": [
    "plot_all_traces(predictor_trace=diff_each_step_estimation_nn_trace,real_trace=state_diff,title=\"NN diff Estimation\")"
   ]
  },
  {
   "cell_type": "markdown",
   "metadata": {},
   "source": [
    "## Gradient Boost one step estimation"
   ]
  },
  {
   "cell_type": "code",
   "execution_count": null,
   "metadata": {},
   "outputs": [],
   "source": [
    "column=5\n",
    "ini_obs=100000\n",
    "num_obs=80\n",
    "#num_obs=494624\n",
    "state=state_names[column]\n",
    "plot_title=('GB Estimation vs Real state:%s'%state)\n",
    "plot_results(estimate_trace=diff_each_step_estimation_gb_trace[ini_obs:ini_obs+num_obs,column],real_trace=state_diff[ini_obs:ini_obs+num_obs,column],title=plot_title)"
   ]
  },
  {
   "cell_type": "code",
   "execution_count": null,
   "metadata": {},
   "outputs": [],
   "source": [
    "plot_all_traces(predictor_trace=diff_each_step_estimation_nn_trace,real_trace=state_diff,title=\"Gb diff Estimation\")"
   ]
  },
  {
   "cell_type": "markdown",
   "metadata": {},
   "source": [
    "# Estimation of Heavy Naphta\n",
    "\n",
    "The Heavy Naphta production correspond \n",
    "\n",
    "- Tag: 14FRC501 | Heavy Naphtha from C1452 | High | Int | \\\\piserver\\14FRC501.MEAS"
   ]
  },
  {
   "cell_type": "code",
   "execution_count": null,
   "metadata": {},
   "outputs": [],
   "source": [
    "#variable you want to check\n",
    "variable_name='14FRC501.MEAS'"
   ]
  },
  {
   "cell_type": "code",
   "execution_count": null,
   "metadata": {},
   "outputs": [],
   "source": [
    "column=np.where(state_names==variable_name)[0][0]\n",
    "print(column)"
   ]
  },
  {
   "cell_type": "code",
   "execution_count": null,
   "metadata": {},
   "outputs": [],
   "source": [
    "#Select parameters of the plot\n",
    "ini_obs=100000\n",
    "num_obs=80\n",
    "all_range=True\n",
    "if all_range:\n",
    "    ini_obs=0\n",
    "    num_obs=494624\n",
    "state=state_names[column] #should be same of variable name above\n",
    "print(state)"
   ]
  },
  {
   "cell_type": "markdown",
   "metadata": {},
   "source": [
    "## NN Heavy Naphta"
   ]
  },
  {
   "cell_type": "code",
   "execution_count": null,
   "metadata": {},
   "outputs": [],
   "source": [
    "plot_title=('Estimation vs Real for state: %s'%state)\n",
    "plot_results(estimate_trace=diff_each_step_estimation_nn_trace[ini_obs:ini_obs+num_obs,column],real_trace=state_diff[ini_obs:ini_obs+num_obs,column],title=plot_title)"
   ]
  },
  {
   "cell_type": "markdown",
   "metadata": {},
   "source": [
    "## GB Heavy Naphta"
   ]
  },
  {
   "cell_type": "code",
   "execution_count": null,
   "metadata": {},
   "outputs": [],
   "source": [
    "state=state_names[column]\n",
    "plot_title=('GB Estimation vs Real state:%s'%state)\n",
    "plot_results(estimate_trace=diff_each_step_estimation_gb_trace[ini_obs:ini_obs+num_obs,column],real_trace=state_diff[ini_obs:ini_obs+num_obs,column],title=plot_title)"
   ]
  },
  {
   "cell_type": "code",
   "execution_count": null,
   "metadata": {},
   "outputs": [],
   "source": []
  }
 ],
 "metadata": {
  "kernelspec": {
   "display_name": "Python 3",
   "language": "python",
   "name": "python3"
  },
  "language_info": {
   "codemirror_mode": {
    "name": "ipython",
    "version": 3
   },
   "file_extension": ".py",
   "mimetype": "text/x-python",
   "name": "python",
   "nbconvert_exporter": "python",
   "pygments_lexer": "ipython3",
   "version": "3.7.6"
  }
 },
 "nbformat": 4,
 "nbformat_minor": 4
}
