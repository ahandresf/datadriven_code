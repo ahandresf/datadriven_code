{
 "cells": [
  {
   "cell_type": "code",
   "execution_count": 1,
   "metadata": {},
   "outputs": [],
   "source": [
    "#Libraries\n",
    "import numpy as np\n",
    "import pandas as pd \n",
    "import csv\n",
    "import pprint\n",
    "import pickle\n",
    "from datetime import datetime\n",
    "import time\n",
    "import json\n",
    "import os"
   ]
  },
  {
   "cell_type": "code",
   "execution_count": 2,
   "metadata": {},
   "outputs": [],
   "source": [
    "#create a time stamp, Month_Day_HourMinuteSeconds\n",
    "time_stamp=time.strftime('%B_%d_%H%M%S')\n",
    "dir_name='./data_parser_output/'+time_stamp\n",
    "os.makedirs(dir_name,exist_ok=False)"
   ]
  },
  {
   "cell_type": "code",
   "execution_count": 3,
   "metadata": {},
   "outputs": [],
   "source": [
    "def split_data(data_df, as_dic=False):\n",
    "    full_state_trace = np.array(data_df[state_names])\n",
    "    full_action_trace = np.array(data_df[action_names])\n",
    "    actions_input=np.array(data_df[action_names].iloc[0:len(data_df)-1,:]) #skip last row\n",
    "    states_input=np.array(data_df[state_names].iloc[0:len(data_df)-1,:]) #skip last row\n",
    "    states_output=np.array(data_df[state_names].iloc[1::,:]) #skip fist row\n",
    "    states_diff = states_output-states_input\n",
    "    diff_out=pd.DataFrame(data=states_diff,columns=state_names)\n",
    "    print(\"Actions input shape:\",actions_input.shape)\n",
    "    print(\"State input shape:\",states_input.shape)\n",
    "    print(\"State output shape:\",states_output.shape)\n",
    "    print(\"State difference shape:\",states_diff.shape)\n",
    "    print(\"Diff_out df shape:\",diff_out.shape)\n",
    "    print(\"full_action_trace\",full_action_trace.shape)\n",
    "    print(\"full_state_trace:\",full_state_trace.shape)\n",
    "    data_dic={'actions_input':actions_input, \n",
    "                'states_input':states_input,\n",
    "                'states_output':states_output,\n",
    "                'states_diff':states_diff,\n",
    "                'diff_out': diff_out,\n",
    "                'full_action_trace':full_action_trace,\n",
    "                'full_state_trace':full_state_trace\n",
    "                    }\n",
    "    if as_dic:\n",
    "        print('Return dictionary keys: \\n',data_dic.keys())\n",
    "        return data_dic\n",
    "    print('Return a list with: [actions_input, states_input,states_output,states_diff, diff_out,full_action_trace,full_state_trace]')\n",
    "    return actions_input, states_input,states_output,states_diff, diff_out,full_action_trace,full_state_trace"
   ]
  },
  {
   "cell_type": "code",
   "execution_count": 4,
   "metadata": {},
   "outputs": [],
   "source": [
    "def shift_data(input_ds,output_ds,shift):\n",
    "    in_ds_shift=input_ds[0:len(input_ds)-shift,:]\n",
    "    out_ds_shift=output_ds[shift::,:]\n",
    "    print(\"Shift is:%s \\n Input Shape:%s \\n Output Shape:%s\"%(shift,in_ds_shift.shape,out_ds_shift.shape))\n",
    "    return in_ds_shift,out_ds_shift"
   ]
  },
  {
   "cell_type": "code",
   "execution_count": 5,
   "metadata": {},
   "outputs": [],
   "source": [
    "def get_diff(actions,states,shift,verbose=False):\n",
    "    a_in=actions[0:len(states)-shift,:]\n",
    "    s_in=states[0:len(states)-shift,:]\n",
    "    s_out=states[shift::,:]\n",
    "    s_diff=s_out-s_in\n",
    "    a_s_in=np.concatenate((a_in,s_in),axis=1)\n",
    "    if verbose:\n",
    "        print('original_input\\n',states.shape)\n",
    "        print('states cut\\n',s_in.shape)\n",
    "        print('states shift\\n',s_out.shape)\n",
    "        print('diff\\n',s_diff.shape)\n",
    "        print('action_state_input\\n',a_s_in.shape)\n",
    "    return s_in,s_out,s_diff,a_s_in  "
   ]
  },
  {
   "cell_type": "code",
   "execution_count": 6,
   "metadata": {},
   "outputs": [],
   "source": [
    "def get_shift_cut(actions,states,shift):\n",
    "    _,num_actions_columns=actions.shape\n",
    "    a_s_in=np.concatenate((actions,states),axis=1)\n",
    "    print('a_s_shift\\n',a_s_in)\n",
    "    r,c=a_s_in.shape #rows, columns\n",
    "    n=r//shift\n",
    "    a_s_shift=np.zeros((n,c))\n",
    "    #print(a_s_shift.shape)\n",
    "    #print(n)\n",
    "    for i in range(1,n):\n",
    "        #print(i)\n",
    "        a_s_shift[i,:]=a_s_in[i*shift,:]\n",
    "    x_set=a_s_shift[0:-1,:]\n",
    "    y_set=a_s_shift[1::,num_actions_columns::]\n",
    "    return a_s_shift,x_set,y_set"
   ]
  },
  {
   "cell_type": "code",
   "execution_count": 7,
   "metadata": {},
   "outputs": [],
   "source": [
    "#loading Data in a Data Frame\n",
    "data_dir=r'C:\\Users\\aalbaher\\pttgc\\data_1585254368.csv'\n",
    "data_df=pd.read_csv(data_dir)\n",
    "#You may be able to load the x_set and y_set directly and skip the split of the data if needed."
   ]
  },
  {
   "cell_type": "code",
   "execution_count": 8,
   "metadata": {},
   "outputs": [],
   "source": [
    "#Asuming the states_names and action names where store in env_data directory\n",
    "state_names = np.load('./env_data/state_names.npy', allow_pickle=True)\n",
    "action_names = np.load('./env_data/action_names.npy', allow_pickle=True)"
   ]
  },
  {
   "cell_type": "markdown",
   "metadata": {},
   "source": [
    "## Split Data"
   ]
  },
  {
   "cell_type": "code",
   "execution_count": 9,
   "metadata": {},
   "outputs": [
    {
     "name": "stdout",
     "output_type": "stream",
     "text": [
      "Actions input shape: (494624, 8)\n",
      "State input shape: (494624, 30)\n",
      "State output shape: (494624, 30)\n",
      "State difference shape: (494624, 30)\n",
      "Diff_out df shape: (494624, 30)\n",
      "full_action_trace (494625, 8)\n",
      "full_state_trace: (494625, 30)\n",
      "Return a list with: [actions_input, states_input,states_output,states_diff, diff_out,full_action_trace,full_state_trace]\n"
     ]
    }
   ],
   "source": [
    "actions_input, states_input,states_output,states_diff, diff_out,full_action_trace,full_state_trace = split_data(data_df=data_df)"
   ]
  },
  {
   "cell_type": "code",
   "execution_count": 10,
   "metadata": {},
   "outputs": [
    {
     "name": "stdout",
     "output_type": "stream",
     "text": [
      "(494624, 38)\n",
      "(494624, 30)\n"
     ]
    }
   ],
   "source": [
    "#data set for predict value of state\n",
    "x_set_total = np.concatenate((actions_input,states_input),axis=1)\n",
    "y_set_total = states_output\n",
    "#data set for predict value difference between states (one step)\n",
    "x_set_diff=x_set_total\n",
    "y_set_diff=states_output-states_input\n",
    "print(x_set_diff.shape)\n",
    "print(y_set_diff.shape)"
   ]
  },
  {
   "cell_type": "markdown",
   "metadata": {},
   "source": [
    "## Shift and get difference"
   ]
  },
  {
   "cell_type": "code",
   "execution_count": 11,
   "metadata": {},
   "outputs": [],
   "source": [
    "#select shift step\n",
    "shift=10"
   ]
  },
  {
   "cell_type": "code",
   "execution_count": 12,
   "metadata": {},
   "outputs": [
    {
     "name": "stdout",
     "output_type": "stream",
     "text": [
      "original_input\n",
      " (494624, 30)\n",
      "states cut\n",
      " (494614, 30)\n",
      "states shift\n",
      " (494614, 30)\n",
      "diff\n",
      " (494614, 30)\n",
      "action_state_input\n",
      " (494614, 38)\n"
     ]
    }
   ],
   "source": [
    "#shift data\n",
    "s_in_shift,s_out_shift,s_diff,a_s_in_shift=get_diff(actions=actions_input,states=states_input,shift=shift,verbose=True)"
   ]
  },
  {
   "cell_type": "code",
   "execution_count": 13,
   "metadata": {},
   "outputs": [
    {
     "name": "stdout",
     "output_type": "stream",
     "text": [
      "./data_parser_output/April_27_184109/x_set_diff_s_10.pickle\n",
      "./data_parser_output/April_27_184109/y_set_diff_s_10.pickle\n"
     ]
    }
   ],
   "source": [
    "x_name=('./data_parser_output/'+time_stamp+'/x_set_diff_s_%s.pickle'%(shift))\n",
    "y_name=('./data_parser_output/'+time_stamp+'/y_set_diff_s_%s.pickle'%(shift))\n",
    "print(x_name)\n",
    "print(y_name)"
   ]
  },
  {
   "cell_type": "code",
   "execution_count": 14,
   "metadata": {},
   "outputs": [
    {
     "name": "stdout",
     "output_type": "stream",
     "text": [
      "(494614, 38)\n",
      "(494614, 30)\n"
     ]
    }
   ],
   "source": [
    "#Diff with shift, writing dataset into disk\n",
    "with open(x_name, 'wb') as f:\n",
    "    pickle.dump(a_s_in_shift, f, pickle.HIGHEST_PROTOCOL)\n",
    "with open(y_name, 'wb') as f:\n",
    "    pickle.dump(s_diff, f, pickle.HIGHEST_PROTOCOL)\n",
    "print(a_s_in_shift.shape)\n",
    "print(s_diff.shape)"
   ]
  },
  {
   "cell_type": "markdown",
   "metadata": {},
   "source": [
    "## Shift and Value"
   ]
  },
  {
   "cell_type": "code",
   "execution_count": 15,
   "metadata": {},
   "outputs": [],
   "source": [
    "#Try with a smaller shift\n",
    "shift = 5"
   ]
  },
  {
   "cell_type": "code",
   "execution_count": 16,
   "metadata": {},
   "outputs": [
    {
     "name": "stdout",
     "output_type": "stream",
     "text": [
      "98923\n"
     ]
    }
   ],
   "source": [
    "#little validation\n",
    "num_row,_=states_input.shape\n",
    "print(num_row//shift-1)"
   ]
  },
  {
   "cell_type": "code",
   "execution_count": 17,
   "metadata": {},
   "outputs": [
    {
     "name": "stdout",
     "output_type": "stream",
     "text": [
      "./data_parser_output/April_27_184109/x_set_sv5.pickle\n",
      "./data_parser_output/April_27_184109/y_set_sv5.pickle\n"
     ]
    }
   ],
   "source": [
    "x_name_sv=('./data_parser_output/'+time_stamp+'/x_set_sv%s.pickle'%(shift))\n",
    "y_name_sv=('./data_parser_output/'+time_stamp+'/y_set_sv%s.pickle'%(shift))\n",
    "print(x_name_sv)\n",
    "print(y_name_sv)"
   ]
  },
  {
   "cell_type": "code",
   "execution_count": 18,
   "metadata": {},
   "outputs": [
    {
     "name": "stdout",
     "output_type": "stream",
     "text": [
      "a_s_shift\n",
      " [[1998.030518   2000.000366    160.3250275  ...   82.73389435\n",
      "     3.41233397   39.11010742]\n",
      " [2001.770142   2000.000977    160.3579559  ...   82.73149109\n",
      "     3.40727234   39.27136993]\n",
      " [2003.749268   2000.001709    160.3852234  ...   83.05037689\n",
      "     3.40911126   39.37528229]\n",
      " ...\n",
      " [2091.254639   2083.137207    164.9241791  ...   84.35935211\n",
      "     3.80847549   37.7918663 ]\n",
      " [2088.333008   2083.137695    164.9267578  ...   84.36689758\n",
      "     3.80079579   37.85303116]\n",
      " [2089.855469   2083.137939    164.9235077  ...   84.3693161\n",
      "     3.77875304   37.76679611]]\n"
     ]
    }
   ],
   "source": [
    "a_s_shift,x_set_sv,y_set_sv=get_shift_cut(actions=actions_input,states=states_input,shift=shift)"
   ]
  },
  {
   "cell_type": "code",
   "execution_count": 19,
   "metadata": {},
   "outputs": [
    {
     "name": "stdout",
     "output_type": "stream",
     "text": [
      "x shape: (98923, 38)\n",
      "y shape: (98923, 30)\n"
     ]
    }
   ],
   "source": [
    "print('x shape:',x_set_sv.shape)\n",
    "print('y shape:',y_set_sv.shape)"
   ]
  },
  {
   "cell_type": "code",
   "execution_count": 20,
   "metadata": {},
   "outputs": [],
   "source": [
    "with open(x_name_sv, 'wb') as f:\n",
    "    pickle.dump(x_set_sv, f, pickle.HIGHEST_PROTOCOL)\n",
    "with open(y_name_sv, 'wb') as f:\n",
    "    pickle.dump(y_set_sv, f, pickle.HIGHEST_PROTOCOL)"
   ]
  },
  {
   "cell_type": "markdown",
   "metadata": {},
   "source": [
    "## Create Subset"
   ]
  },
  {
   "cell_type": "code",
   "execution_count": 21,
   "metadata": {},
   "outputs": [
    {
     "name": "stdout",
     "output_type": "stream",
     "text": [
      "(10000, 38)\n",
      "(10000, 30)\n"
     ]
    }
   ],
   "source": [
    "sub_set=10000\n",
    "x_sub_diff=x_set_diff[0:sub_set]\n",
    "y_sub_diff=y_set_diff[0:sub_set]\n",
    "print(x_sub_diff.shape)\n",
    "print(y_sub_diff.shape)"
   ]
  },
  {
   "cell_type": "code",
   "execution_count": 22,
   "metadata": {},
   "outputs": [],
   "source": [
    "#writing dataset into disk\n",
    "x_subset_filename = './data_parser_output/'+time_stamp+'/x_set_diff_subset.pickle'\n",
    "y_subset_filename = './data_parser_output/'+time_stamp+'/y_set_diff_subset.pickle'\n",
    "with open(x_subset_filename, 'wb') as f:\n",
    "    pickle.dump(s_in_shift, f, pickle.HIGHEST_PROTOCOL)\n",
    "with open(y_subset_filename, 'wb') as f:\n",
    "    pickle.dump(s_out_shift, f, pickle.HIGHEST_PROTOCOL)"
   ]
  },
  {
   "cell_type": "markdown",
   "metadata": {},
   "source": [
    "## Test and troubleshoot"
   ]
  },
  {
   "cell_type": "code",
   "execution_count": 23,
   "metadata": {},
   "outputs": [
    {
     "name": "stdout",
     "output_type": "stream",
     "text": [
      "[6776.119141 6780.637695 6855.405762 6735.211914 6800.287598 6847.007813\n",
      " 6840.42627  6776.625    6819.195801 6826.537598 6737.      ]\n",
      "[6780.637695 6855.405762 6735.211914 6800.287598 6847.007813 6840.42627\n",
      " 6776.625    6819.195801 6826.537598 6737.       6793.839844]\n"
     ]
    }
   ],
   "source": [
    "#Check one step difference\n",
    "print(states_input[0:11,0])\n",
    "print(states_output[0:11,0])\n",
    "assert(states_input[1,0]==states_output[0,0])"
   ]
  },
  {
   "cell_type": "code",
   "execution_count": 24,
   "metadata": {},
   "outputs": [
    {
     "name": "stdout",
     "output_type": "stream",
     "text": [
      "shift 5\n",
      "6847.007812999998\n",
      "6776.119140999999\n"
     ]
    },
    {
     "ename": "AssertionError",
     "evalue": "",
     "output_type": "error",
     "traceback": [
      "\u001b[1;31m---------------------------------------------------------------------------\u001b[0m",
      "\u001b[1;31mAssertionError\u001b[0m                            Traceback (most recent call last)",
      "\u001b[1;32m<ipython-input-24-7bf239e40b42>\u001b[0m in \u001b[0;36m<module>\u001b[1;34m\u001b[0m\n\u001b[0;32m      6\u001b[0m \u001b[1;31m#print(diff_man)\u001b[0m\u001b[1;33m\u001b[0m\u001b[1;33m\u001b[0m\u001b[1;33m\u001b[0m\u001b[0m\n\u001b[0;32m      7\u001b[0m \u001b[1;31m#print(s_diff[0,0])\u001b[0m\u001b[1;33m\u001b[0m\u001b[1;33m\u001b[0m\u001b[1;33m\u001b[0m\u001b[0m\n\u001b[1;32m----> 8\u001b[1;33m \u001b[1;32massert\u001b[0m\u001b[1;33m(\u001b[0m\u001b[0mdiff_man\u001b[0m\u001b[1;33m==\u001b[0m\u001b[0ms_diff\u001b[0m\u001b[1;33m[\u001b[0m\u001b[1;36m0\u001b[0m\u001b[1;33m,\u001b[0m\u001b[1;36m0\u001b[0m\u001b[1;33m]\u001b[0m\u001b[1;33m)\u001b[0m\u001b[1;33m\u001b[0m\u001b[1;33m\u001b[0m\u001b[0m\n\u001b[0m",
      "\u001b[1;31mAssertionError\u001b[0m: "
     ]
    }
   ],
   "source": [
    "#check shift difference\n",
    "print('shift',shift)\n",
    "print(states_input[shift,0])\n",
    "print(states_input[0,0])\n",
    "diff_man=states_input[shift,0]-states_input[0,0]\n",
    "#print(diff_man)\n",
    "#print(s_diff[0,0])\n",
    "assert(diff_man==s_diff[0,0])"
   ]
  }
 ],
 "metadata": {
  "kernelspec": {
   "display_name": "Python 3",
   "language": "python",
   "name": "python3"
  },
  "language_info": {
   "codemirror_mode": {
    "name": "ipython",
    "version": 3
   },
   "file_extension": ".py",
   "mimetype": "text/x-python",
   "name": "python",
   "nbconvert_exporter": "python",
   "pygments_lexer": "ipython3",
   "version": "3.7.6"
  }
 },
 "nbformat": 4,
 "nbformat_minor": 4
}
